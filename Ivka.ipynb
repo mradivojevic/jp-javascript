{
 "cells": [
  {
   "cell_type": "markdown",
   "metadata": {},
   "source": [
    "# Primer fajl za Ivku  #\n",
    "\n",
    "Pokrenes sa play ili ostalim ^^^ gore dugmicima"
   ]
  },
  {
   "cell_type": "code",
   "execution_count": 1,
   "metadata": {},
   "outputs": [
    {
     "name": "stdout",
     "output_type": "stream",
     "text": [
      "Test\n"
     ]
    }
   ],
   "source": [
    "console.log(\"Test\");"
   ]
  },
  {
   "cell_type": "code",
   "execution_count": 1,
   "metadata": {},
   "outputs": [
    {
     "name": "stdout",
     "output_type": "stream",
     "text": [
      "14.15.3\n",
      "{\n",
      "  node: '14.15.3',\n",
      "  v8: '8.4.371.19-node.17',\n",
      "  uv: '1.40.0',\n",
      "  zlib: '1.2.11',\n",
      "  brotli: '1.0.9',\n",
      "  ares: '1.16.1',\n",
      "  modules: '83',\n",
      "  nghttp2: '1.41.0',\n",
      "  napi: '7',\n",
      "  llhttp: '2.1.3',\n",
      "  openssl: '1.1.1g',\n",
      "  cldr: '37.0',\n",
      "  icu: '67.1',\n",
      "  tz: '2020a',\n",
      "  unicode: '13.0'\n",
      "}\n"
     ]
    }
   ],
   "source": [
    "console.log(process.versions.node); //Trenutna verzija Node servera\n",
    "console.log(process.versions);"
   ]
  },
  {
   "cell_type": "code",
   "execution_count": null,
   "metadata": {},
   "outputs": [],
   "source": []
  }
 ],
 "metadata": {
  "kernelspec": {
   "display_name": "Javascript (Node.js)",
   "language": "javascript",
   "name": "javascript"
  },
  "language_info": {
   "file_extension": ".js",
   "mimetype": "application/javascript",
   "name": "javascript",
   "version": "14.15.3"
  }
 },
 "nbformat": 4,
 "nbformat_minor": 4
}
