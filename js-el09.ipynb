{
 "cells": [
  {
   "cell_type": "markdown",
   "metadata": {},
   "source": [
    "# Eloquent JavaScript poglavlje 9 - regular expresions #\n",
    "\n",
    "https://developer.mozilla.org/en-US/docs/Web/JavaScript/Reference/Global_Objects/RegExp\n"
   ]
  },
  {
   "cell_type": "code",
   "execution_count": 1,
   "metadata": {},
   "outputs": [
    {
     "name": "stdout",
     "output_type": "stream",
     "text": [
      "true\n"
     ]
    }
   ],
   "source": [
    "let animalCount = /\\b\\d+ (pig|cow|chicken)s?\\b/;\n",
    "console.log(animalCount.test(\"15 pig\"));"
   ]
  },
  {
   "cell_type": "code",
   "execution_count": 2,
   "metadata": {
    "scrolled": true
   },
   "outputs": [
    {
     "name": "stdout",
     "output_type": "stream",
     "text": [
      "Barbara Liskov\n",
      "John McCarthy\n",
      "Philip Wadler\n"
     ]
    }
   ],
   "source": [
    "console.log(\n",
    "\"Liskov, Barbara\\nMcCarthy, John\\nWadler, Philip\"\n",
    ".replace(/(\\w+), (\\w+)/g, \"$2 $1\"))"
   ]
  },
  {
   "cell_type": "code",
   "execution_count": 3,
   "metadata": {},
   "outputs": [
    {
     "name": "stdout",
     "output_type": "stream",
     "text": [
      "This _dea+hl[]rd_ guy is super annoying.\n"
     ]
    }
   ],
   "source": [
    "let name = \"dea+hl[]rd\";\n",
    "let text = \"This dea+hl[]rd guy is super annoying.\";\n",
    "let escaped = name.replace(/[\\\\[.+*?(){|^$]/g, \"\\\\$&\");\n",
    "let regexp = new RegExp(\"\\\\b\" + escaped + \"\\\\b\", \"gi\");\n",
    "console.log(text.replace(regexp, \"_$&_\"));// → This _dea+hl[]rd_ guy is super annoying."
   ]
  },
  {
   "cell_type": "markdown",
   "metadata": {},
   "source": [
    "Date objekat\n",
    "\n",
    "https://developer.mozilla.org/en-US/docs/Web/JavaScript/Reference/Global_Objects/Date\n",
    "\n",
    "https://stackoverflow.com/questions/3818193/how-to-add-number-of-days-to-todays-date"
   ]
  },
  {
   "cell_type": "code",
   "execution_count": null,
   "metadata": {},
   "outputs": [],
   "source": []
  }
 ],
 "metadata": {
  "kernelspec": {
   "display_name": "Javascript (Node.js)",
   "language": "javascript",
   "name": "javascript"
  },
  "language_info": {
   "file_extension": ".js",
   "mimetype": "application/javascript",
   "name": "javascript",
   "version": "8.17.0"
  }
 },
 "nbformat": 4,
 "nbformat_minor": 4
}
