{
 "cells": [
  {
   "cell_type": "markdown",
   "metadata": {},
   "source": [
    "# Eloquent JavaScript - poglavlje 4\n",
    "\n",
    "Ovo poglavlje se bavi strukturama podataka, objektima i nizovima. Takodje prolazi kroz metode, JSON eskport/import, eskpanzivnim parametrima funkcija, Math objektom i destruktorima.\n"
   ]
  },
  {
   "cell_type": "code",
   "execution_count": 1,
   "metadata": {},
   "outputs": [
    {
     "name": "stdout",
     "output_type": "stream",
     "text": [
      "hello world\n"
     ]
    }
   ],
   "source": [
    "let milos = \"hello world\";\n",
    "console.log( milos );"
   ]
  },
  {
   "cell_type": "markdown",
   "metadata": {},
   "source": [
    "**Ovo je primer tipova objekata i listanja atributa objekta**"
   ]
  },
  {
   "cell_type": "code",
   "execution_count": 2,
   "metadata": {},
   "outputs": [],
   "source": [
    "const objekat = {\n",
    "    x: 0,\n",
    "    y: 1,\n",
    "    z: 2\n",
    "};"
   ]
  },
  {
   "cell_type": "markdown",
   "metadata": {},
   "source": [
    "**Moguce je dodati atribut postojecem objektu**"
   ]
  },
  {
   "cell_type": "code",
   "execution_count": 3,
   "metadata": {
    "scrolled": true
   },
   "outputs": [
    {
     "name": "stdout",
     "output_type": "stream",
     "text": [
      "{ x: 0, y: 1, z: 2, c: 40 }\n"
     ]
    }
   ],
   "source": [
    "objekat.c = 40;\n",
    "console.log( objekat );"
   ]
  },
  {
   "cell_type": "markdown",
   "metadata": {},
   "source": [
    "**Dodati funkciju objektu**"
   ]
  },
  {
   "cell_type": "code",
   "execution_count": 4,
   "metadata": {},
   "outputs": [
    {
     "name": "stdout",
     "output_type": "stream",
     "text": [
      "Evo i mene, funkcije sa parametrom Proba!\n"
     ]
    }
   ],
   "source": [
    "objekat.f = ( x ) => `Evo i mene, funkcije sa parametrom ${x}!`;\n",
    "console.log( objekat.f( \"Proba\"));"
   ]
  },
  {
   "cell_type": "markdown",
   "metadata": {},
   "source": [
    "**Ovako se definisu nizovi**"
   ]
  },
  {
   "cell_type": "code",
   "execution_count": 5,
   "metadata": {},
   "outputs": [],
   "source": [
    "let niz = [ 1, 2, 3, 4, 5 ];"
   ]
  },
  {
   "cell_type": "code",
   "execution_count": 6,
   "metadata": {
    "scrolled": true
   },
   "outputs": [
    {
     "name": "stdout",
     "output_type": "stream",
     "text": [
      "object\n",
      "[ '0', '1', '2', '3', '4' ]\n",
      "Elemement niza: 1\n",
      "Elemement niza: 2\n",
      "Elemement niza: 3\n",
      "Elemement niza: 4\n",
      "Elemement niza: 5\n"
     ]
    }
   ],
   "source": [
    "console.log( typeof niz );\n",
    "console.log( Object.keys( niz ));\n",
    "for( n of niz) console.log( `Elemement niza: ${n}` );"
   ]
  },
  {
   "cell_type": "code",
   "execution_count": 7,
   "metadata": {},
   "outputs": [
    {
     "name": "stdout",
     "output_type": "stream",
     "text": [
      "object\n",
      "{ x: 0, y: 1, z: 2, c: 40, f: [Function (anonymous)] }\n",
      "[ 'x', 'y', 'z', 'c', 'f' ]\n",
      "{ x: 0, y: 1, z: 2, c: 40, f: [Function (anonymous)], a: 10, b: 20 }\n"
     ]
    }
   ],
   "source": [
    "console.log( typeof objekat);\n",
    "console.log( objekat );\n",
    "console.log( Object.keys( objekat ));\n",
    "Object.assign( objekat, { a: 10, b: 20})\n",
    "console.log( objekat );"
   ]
  },
  {
   "cell_type": "markdown",
   "metadata": {},
   "source": [
    "**Destruktor izvlaci komponentu iz objekta**"
   ]
  },
  {
   "cell_type": "code",
   "execution_count": 8,
   "metadata": {},
   "outputs": [
    {
     "name": "stdout",
     "output_type": "stream",
     "text": [
      "Milos\n"
     ]
    }
   ],
   "source": [
    "let {ime} = { ime: \"Milos\", prezime: \"Radivojevic\"};\n",
    "console.log( ime );"
   ]
  },
  {
   "cell_type": "markdown",
   "metadata": {},
   "source": [
    "Definisi dva objekta istog sadrzaja i uporedi ih na jedan i drugi nacin. Poredjenje objekata na ovaj nacin rezultuje sa false, sto znaci da treba porediti interno atribute objekta."
   ]
  },
  {
   "cell_type": "code",
   "execution_count": 9,
   "metadata": {},
   "outputs": [],
   "source": [
    "let obj1 = { a: 'A', b: 'B'};\n",
    "let obj2 = { a: 'A', b: 'B'};"
   ]
  },
  {
   "cell_type": "code",
   "execution_count": 10,
   "metadata": {},
   "outputs": [
    {
     "name": "stdout",
     "output_type": "stream",
     "text": [
      "false\n",
      "false\n",
      "true\n",
      "true\n"
     ]
    }
   ],
   "source": [
    "console.log( obj1 == obj2);\n",
    "console.log( obj1 === obj2);\n",
    "console.log( obj1.a == obj2.a);\n",
    "console.log( obj1.a === obj2.a);"
   ]
  },
  {
   "cell_type": "markdown",
   "metadata": {},
   "source": [
    "**Closure** je funkcija koju je generisala neka druga funkcija i prilkom njenog generisanja ostaju zapamceni paremtri\n",
    "pri kojem je funkcija izgenerisana"
   ]
  },
  {
   "cell_type": "code",
   "execution_count": 11,
   "metadata": {},
   "outputs": [],
   "source": [
    "function multiplier(factor) {return number => number * factor;}"
   ]
  },
  {
   "cell_type": "code",
   "execution_count": 12,
   "metadata": {},
   "outputs": [
    {
     "name": "stdout",
     "output_type": "stream",
     "text": [
      "10\n",
      "15\n"
     ]
    }
   ],
   "source": [
    "let twice = multiplier(2);console.log(twice(5));\n",
    "let threeTimes = multiplier(3); console.log(threeTimes(5));"
   ]
  },
  {
   "cell_type": "code",
   "execution_count": null,
   "metadata": {},
   "outputs": [],
   "source": []
  }
 ],
 "metadata": {
  "kernelspec": {
   "display_name": "Javascript (Node.js)",
   "language": "javascript",
   "name": "javascript"
  },
  "language_info": {
   "file_extension": ".js",
   "mimetype": "application/javascript",
   "name": "javascript",
   "version": "14.15.4"
  }
 },
 "nbformat": 4,
 "nbformat_minor": 4
}
