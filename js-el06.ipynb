{
 "cells": [
  {
   "cell_type": "markdown",
   "metadata": {},
   "source": [
    "# Eloquent JavaScript - poglavlje 6\n",
    "\n",
    "Objekti i klase\n",
    "\n",
    "Svi objekti imaju svoj prototip koji su naslednici osnovnog Object prototipa, osim onih koji su eksplicitno kreirani sa null u create.\n",
    "\n",
    "https://developer.mozilla.org/en-US/docs/Web/JavaScript/Reference/Global_Objects/Object\n",
    "\n",
    "Preko sistema prototipa moguce je definisati jedan objekat kao sablon a onda pozivom staticke metode Object.create( sablon ) kreirati novi objekat tog prototipa"
   ]
  },
  {
   "cell_type": "code",
   "execution_count": 1,
   "metadata": {},
   "outputs": [
    {
     "name": "stdout",
     "output_type": "stream",
     "text": [
      "The rabbit says 'I'm alive.'\n",
      "[ [ 'speak', [Function (anonymous)] ] ]\n",
      "[]\n"
     ]
    }
   ],
   "source": [
    "let rabbit = {};\n",
    "\n",
    "rabbit.speak = function(line){console.log(`The rabbit says '${line}'`);};\n",
    "rabbit.speak(\"I'm alive.\");\n",
    "console.log( Object.entries(rabbit));\n",
    "console.log( Object.entries(Object.prototype));"
   ]
  },
  {
   "cell_type": "code",
   "execution_count": 2,
   "metadata": {},
   "outputs": [
    {
     "name": "stdout",
     "output_type": "stream",
     "text": [
      "The white rabbit says 'Oh my ears and whiskers, how late it's getting!'\n",
      "The hungry rabbit says 'I could use a carrot right now.'\n"
     ]
    }
   ],
   "source": [
    "function speak(line) {\n",
    "    console.log(`The ${this.type} rabbit says '${line}'`);\n",
    "}\n",
    "let whiteRabbit = {type: \"white\", speak};\n",
    "let hungryRabbit = {type: \"hungry\", speak};\n",
    "\n",
    "whiteRabbit.speak(\"Oh my ears and whiskers, \" + \"how late it's getting!\");\n",
    "hungryRabbit.speak(\"I could use a carrot right now.\");"
   ]
  },
  {
   "cell_type": "markdown",
   "metadata": {},
   "source": [
    "Svaka funkcija ima **call** metodu koja moze da pozove datu metodu u kontekst prosledjenog objekta kao prvi parametar"
   ]
  },
  {
   "cell_type": "code",
   "execution_count": 3,
   "metadata": {
    "scrolled": true
   },
   "outputs": [
    {
     "name": "stdout",
     "output_type": "stream",
     "text": [
      "The hungry rabbit says 'Burp!'\n"
     ]
    }
   ],
   "source": [
    "speak.call(hungryRabbit, \"Burp!\");"
   ]
  },
  {
   "cell_type": "markdown",
   "metadata": {},
   "source": [
    "**Prototipovi** su vezani za objekte"
   ]
  },
  {
   "cell_type": "code",
   "execution_count": 4,
   "metadata": {},
   "outputs": [
    {
     "name": "stdout",
     "output_type": "stream",
     "text": [
      "true\n"
     ]
    }
   ],
   "source": [
    "console.log(Object.getPrototypeOf(Math.max) == Function.prototype);"
   ]
  },
  {
   "cell_type": "markdown",
   "metadata": {},
   "source": [
    "**Simboli** omogucavaju da se definisu standardne vrednosti za atribute i metode objekata koji vaze za ceo sistem. Za to se koristi Symbol klasa.\n",
    "\n",
    "https://developer.mozilla.org/en-US/docs/Glossary/Symbol"
   ]
  },
  {
   "cell_type": "code",
   "execution_count": 5,
   "metadata": {},
   "outputs": [
    {
     "name": "stdout",
     "output_type": "stream",
     "text": [
      "false\n"
     ]
    }
   ],
   "source": [
    "let sym = Symbol(\"name\");\n",
    "console.log(sym == Symbol(\"name\"));"
   ]
  },
  {
   "cell_type": "markdown",
   "metadata": {},
   "source": [
    "Dva simbola sa istim imenom nisu identicna, nego je potrebno referencirati simbol preko njegove promenjive. Standardni simboli se nalaze kao atributi Symbol objekta\n",
    "\n",
    "https://tc39.es/ecma262/#sec-well-known-symbols"
   ]
  },
  {
   "cell_type": "code",
   "execution_count": 6,
   "metadata": {},
   "outputs": [
    {
     "name": "stdout",
     "output_type": "stream",
     "text": [
      "Vrednost simbola\n"
     ]
    }
   ],
   "source": [
    "whiteRabbit[sym] = 'Vrednost simbola';\n",
    "console.log( whiteRabbit[sym]);"
   ]
  },
  {
   "cell_type": "markdown",
   "metadata": {},
   "source": [
    "Osim prototipova koji simuliraju klase, moguce je definisati i prave klase upotrebom **class** definicije. Klase mogu da imaju i staticke metode upotrebom kljucne raci **static**, a moguce je definisati i contructor metodu koja postavlja atribute jer atribute nije moguce definisati u klasi."
   ]
  },
  {
   "cell_type": "code",
   "execution_count": null,
   "metadata": {},
   "outputs": [],
   "source": []
  },
  {
   "cell_type": "markdown",
   "metadata": {},
   "source": [
    "Pored ovoga moguce je definisati get/set metode koje onda postaju metode koje simuliraju pozivanje atributa sa datim imenom tako sto se odgovarajuci operater postvai pre imena metode."
   ]
  },
  {
   "cell_type": "code",
   "execution_count": null,
   "metadata": {},
   "outputs": [],
   "source": []
  },
  {
   "cell_type": "markdown",
   "metadata": {},
   "source": [
    "Map i set klase omogucavaju skladistenje podataka\n",
    "\n",
    "https://developer.mozilla.org/en-US/docs/Web/JavaScript/Reference/Global_Objects/Map\n",
    "\n",
    "https://developer.mozilla.org/en-US/docs/Web/JavaScript/Reference/Global_Objects/Set\n"
   ]
  },
  {
   "cell_type": "code",
   "execution_count": null,
   "metadata": {},
   "outputs": [],
   "source": []
  }
 ],
 "metadata": {
  "kernelspec": {
   "display_name": "Javascript (Node.js)",
   "language": "javascript",
   "name": "javascript"
  },
  "language_info": {
   "file_extension": ".js",
   "mimetype": "application/javascript",
   "name": "javascript",
   "version": "8.10.0"
  }
 },
 "nbformat": 4,
 "nbformat_minor": 4
}
