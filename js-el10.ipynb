{
 "cells": [
  {
   "cell_type": "markdown",
   "metadata": {},
   "source": [
    "# Eloquent JavaScript poglavlje 10 - moduli #"
   ]
  },
  {
   "cell_type": "markdown",
   "metadata": {},
   "source": [
    "JavaScript ima funkciju za pokretanje koda iz String vrednost eval( ) ali ona je je povezana za treutni scope u momentu pozivanja\n",
    "\n",
    "https://nodejs.org/api/packages.html#packages_determining_module_system\n"
   ]
  },
  {
   "cell_type": "code",
   "execution_count": 1,
   "metadata": {},
   "outputs": [
    {
     "name": "stdout",
     "output_type": "stream",
     "text": [
      "2\n",
      "1\n"
     ]
    }
   ],
   "source": [
    "const x = 1;\n",
    "\n",
    "function evalAndReturnX(code) {\n",
    "    eval(code);\n",
    "    return x;\n",
    "}\n",
    "\n",
    "console.log(evalAndReturnX(\"var x = 2\"));// → 2console.log(x);\n",
    "console.log(x);"
   ]
  },
  {
   "cell_type": "markdown",
   "metadata": {},
   "source": [
    "I mogucnost kreiranja Function objekta koja prima odvojeno parametre i funkciju"
   ]
  },
  {
   "cell_type": "code",
   "execution_count": 2,
   "metadata": {},
   "outputs": [
    {
     "name": "stdout",
     "output_type": "stream",
     "text": [
      "5\n"
     ]
    }
   ],
   "source": [
    "let plusOne = Function(\"n\", \"return n + 1;\");\n",
    "console.log(plusOne(4));"
   ]
  },
  {
   "cell_type": "markdown",
   "metadata": {},
   "source": [
    "## Commonjs ##\n",
    "\n",
    "Medjutim najkorisceniji metod kreiranja i koriscenja modula je preko **commonjs** standarda i **require** funkcije. Eksterni modul je snimljen u [mr-modul](./mr-modul.js) fajlu\n",
    "\n",
    "https://en.wikipedia.org/wiki/CommonJS\n",
    "\n"
   ]
  },
  {
   "cell_type": "code",
   "execution_count": 1,
   "metadata": {},
   "outputs": [
    {
     "name": "stdout",
     "output_type": "stream",
     "text": [
      "[Function (anonymous)]\n",
      "Pozvana fun milos_fun: Sve za module\n",
      "Pozvana fun milos_fun: Prva\n"
     ]
    }
   ],
   "source": [
    "const { milos_fun }  = require(\"./mr-modul\");\n",
    "//moze i ovako const fun1 = require(\"./mr-modul\").milos_fun ??\n",
    "const lista_eksp = require(\"./mr-modul\").lista;\n",
    "\n",
    "console.log(milos_fun);\n",
    "milos_fun('Sve za module');\n",
    "milos_fun(lista_eksp[0]);"
   ]
  },
  {
   "cell_type": "markdown",
   "metadata": {},
   "source": [
    "## NPM package manager  ## \n",
    "https://flaviocopes.com/npm/"
   ]
  },
  {
   "cell_type": "markdown",
   "metadata": {},
   "source": [
    "Od verzije 13.2 Node dolazi sa podrskom za ES module\n",
    "\n",
    "https://nodejs.medium.com/announcing-core-node-js-support-for-ecmascript-modules-c5d6dc29b663"
   ]
  },
  {
   "cell_type": "code",
   "execution_count": null,
   "metadata": {},
   "outputs": [],
   "source": []
  }
 ],
 "metadata": {
  "kernelspec": {
   "display_name": "Javascript (Node.js)",
   "language": "javascript",
   "name": "javascript"
  },
  "language_info": {
   "file_extension": ".js",
   "mimetype": "application/javascript",
   "name": "javascript",
   "version": "14.15.3"
  }
 },
 "nbformat": 4,
 "nbformat_minor": 4
}
