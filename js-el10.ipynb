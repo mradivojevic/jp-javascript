{
 "cells": [
  {
   "cell_type": "markdown",
   "metadata": {},
   "source": [
    "# Eloquent JavaScript poglavlje 9 - moduli #"
   ]
  },
  {
   "cell_type": "markdown",
   "metadata": {},
   "source": [
    "JavaScript ima funkciju za pokretanje koda iz String vrednost eval( ) ali ona je je povezana za treutni scope u momentu pozivanja\n",
    "\n",
    "[Proba link lokalnog fajla](./tekst.txt)"
   ]
  },
  {
   "cell_type": "code",
   "execution_count": 1,
   "metadata": {},
   "outputs": [
    {
     "name": "stdout",
     "output_type": "stream",
     "text": [
      "2\n",
      "1\n"
     ]
    }
   ],
   "source": [
    "const x = 1;\n",
    "\n",
    "function evalAndReturnX(code) {\n",
    "    eval(code);\n",
    "    return x;\n",
    "}\n",
    "\n",
    "console.log(evalAndReturnX(\"var x = 2\"));// → 2console.log(x);\n",
    "console.log(x);"
   ]
  },
  {
   "cell_type": "markdown",
   "metadata": {},
   "source": [
    "I mogucnost kreiranja Function objekta koja prima odvojeno parametre i funkciju"
   ]
  },
  {
   "cell_type": "code",
   "execution_count": 2,
   "metadata": {},
   "outputs": [
    {
     "name": "stdout",
     "output_type": "stream",
     "text": [
      "5\n"
     ]
    }
   ],
   "source": [
    "let plusOne = Function(\"n\", \"return n + 1;\");\n",
    "console.log(plusOne(4));"
   ]
  },
  {
   "cell_type": "markdown",
   "metadata": {},
   "source": [
    "Medjutim najkorisceniji metod kreiranja i koriscenja modula je preko **commonjs** standarda i **require** funkcije\n",
    "\n",
    "https://en.wikipedia.org/wiki/CommonJS\n",
    "\n"
   ]
  },
  {
   "cell_type": "markdown",
   "metadata": {},
   "source": [
    "NPM package manager - https://flaviocopes.com/npm/"
   ]
  },
  {
   "cell_type": "code",
   "execution_count": null,
   "metadata": {},
   "outputs": [],
   "source": []
  }
 ],
 "metadata": {
  "kernelspec": {
   "display_name": "Javascript (Node.js)",
   "language": "javascript",
   "name": "javascript"
  },
  "language_info": {
   "file_extension": ".js",
   "mimetype": "application/javascript",
   "name": "javascript",
   "version": "8.17.0"
  }
 },
 "nbformat": 4,
 "nbformat_minor": 4
}
