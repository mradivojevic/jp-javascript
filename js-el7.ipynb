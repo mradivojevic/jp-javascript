{
 "cells": [
  {
   "cell_type": "markdown",
   "metadata": {},
   "source": [
    "# Eloquent Javascript poglavlje 7 - proba #"
   ]
  },
  {
   "cell_type": "code",
   "execution_count": 1,
   "metadata": {},
   "outputs": [
    {
     "name": "stdout",
     "output_type": "stream",
     "text": [
      "Hello\n"
     ]
    }
   ],
   "source": [
    "( function(){\n",
    "    console.log(\"Hello\");\n",
    "    let mile = function(){console.log(\"Mile\");}\n",
    "}\n",
    ")()"
   ]
  },
  {
   "cell_type": "code",
   "execution_count": 2,
   "metadata": {},
   "outputs": [
    {
     "name": "stdout",
     "output_type": "stream",
     "text": [
      "Hello Milos\n"
     ]
    }
   ],
   "source": [
    "console.log(( function(x){ return {mile : `Hello ${x}`}})( \"Milos\" ).mile)\n"
   ]
  },
  {
   "cell_type": "code",
   "execution_count": 3,
   "metadata": {},
   "outputs": [],
   "source": [
    "const roads = [\n",
    "\"Alice's House-Bob's House\", \"Alice's House-Cabin\",\n",
    "\"Alice's House-Post Office\", \"Bob's House-Town Hall\",\n",
    "\"Daria's House-Ernie's House\", \"Daria's House-Town Hall\",\n",
    "\"Ernie's House-Grete's House\", \"Grete's House-Farm\",\n",
    "\"Grete's House-Shop\", \"Marketplace-Farm\",\n",
    "\"Marketplace-Post Office\", \"Marketplace-Shop\",\n",
    "\"Marketplace-Town Hall\", \"Shop-Town Hall\"\n",
    "];"
   ]
  },
  {
   "cell_type": "markdown",
   "metadata": {},
   "source": [
    "Specificnosti kreiranja praznog objekta:\n",
    "https://developer.mozilla.org/en-US/docs/Web/JavaScript/Reference/Global_Objects/Object/create"
   ]
  },
  {
   "cell_type": "code",
   "execution_count": 4,
   "metadata": {},
   "outputs": [],
   "source": [
    "function buildGraph(edges) {\n",
    "    \n",
    "    let graph = Object.create(null); //Kreira objekat bez prototipa\n",
    "    \n",
    "    function addEdge(from, to) {\n",
    "        if (graph[from] == null) {graph[from] = [to];} \n",
    "        else {graph[from].push(to);}}\n",
    "    \n",
    "    for (let [from, to] of edges.map(r => r.split(\"-\"))) \n",
    "            {addEdge(from, to);addEdge(to, from);}\n",
    "        \n",
    "    return graph;}\n",
    "\n",
    "const roadGraph = buildGraph(roads);"
   ]
  },
  {
   "cell_type": "code",
   "execution_count": 5,
   "metadata": {},
   "outputs": [
    {
     "name": "stdout",
     "output_type": "stream",
     "text": [
      "{ 'Alice\\'s House': [ 'Bob\\'s House', 'Cabin', 'Post Office' ],\n",
      "  'Bob\\'s House': [ 'Alice\\'s House', 'Town Hall' ],\n",
      "  Cabin: [ 'Alice\\'s House' ],\n",
      "  'Post Office': [ 'Alice\\'s House', 'Marketplace' ],\n",
      "  'Town Hall': [ 'Bob\\'s House', 'Daria\\'s House', 'Marketplace', 'Shop' ],\n",
      "  'Daria\\'s House': [ 'Ernie\\'s House', 'Town Hall' ],\n",
      "  'Ernie\\'s House': [ 'Daria\\'s House', 'Grete\\'s House' ],\n",
      "  'Grete\\'s House': [ 'Ernie\\'s House', 'Farm', 'Shop' ],\n",
      "  Farm: [ 'Grete\\'s House', 'Marketplace' ],\n",
      "  Shop: [ 'Grete\\'s House', 'Marketplace', 'Town Hall' ],\n",
      "  Marketplace: [ 'Farm', 'Post Office', 'Shop', 'Town Hall' ] }\n"
     ]
    }
   ],
   "source": [
    "console.log( roadGraph );"
   ]
  },
  {
   "cell_type": "code",
   "execution_count": 6,
   "metadata": {},
   "outputs": [
    {
     "name": "stdout",
     "output_type": "stream",
     "text": [
      "object\n"
     ]
    }
   ],
   "source": [
    "console.log( typeof roadGraph );"
   ]
  },
  {
   "cell_type": "code",
   "execution_count": 7,
   "metadata": {},
   "outputs": [
    {
     "name": "stdout",
     "output_type": "stream",
     "text": [
      "[ 'Alice\\'s House' ]\n",
      "object\n"
     ]
    }
   ],
   "source": [
    "console.log(roadGraph[\"Cabin\"]);\n",
    "console.log(typeof roadGraph[\"Cabin\"]);"
   ]
  },
  {
   "cell_type": "code",
   "execution_count": null,
   "metadata": {},
   "outputs": [],
   "source": []
  }
 ],
 "metadata": {
  "kernelspec": {
   "display_name": "Javascript (Node.js)",
   "language": "javascript",
   "name": "javascript"
  },
  "language_info": {
   "file_extension": ".js",
   "mimetype": "application/javascript",
   "name": "javascript",
   "version": "8.17.0"
  }
 },
 "nbformat": 4,
 "nbformat_minor": 4
}
