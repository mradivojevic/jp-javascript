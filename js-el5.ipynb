{
 "cells": [
  {
   "cell_type": "markdown",
   "metadata": {},
   "source": [
    "# Eloquent JavaScript - poglavlje 5 \n",
    "\n",
    "Funkcije viseg nivoa. Funkcije za filter, map, reduce i slicno"
   ]
  },
  {
   "cell_type": "markdown",
   "metadata": {},
   "source": [
    "Funkcija koja prima funkciju kao atribut i izvrsava je"
   ]
  },
  {
   "cell_type": "code",
   "execution_count": 1,
   "metadata": {},
   "outputs": [
    {
     "name": "stdout",
     "output_type": "stream",
     "text": [
      "[ [Function: fA], [Function: fB] ]\n"
     ]
    }
   ],
   "source": [
    "let fA = function( a ){ console.log(`Funkcija a: ${a}`)};\n",
    "let fB = function( a ){ console.log(`Funkcija b: ${a}`)};\n",
    "let nizA = [];\n",
    "nizA.push(fA); nizA.push(fB);\n",
    "console.log( nizA );                                   "
   ]
  },
  {
   "cell_type": "code",
   "execution_count": 2,
   "metadata": {},
   "outputs": [
    {
     "name": "stdout",
     "output_type": "stream",
     "text": [
      "Funkcija a: Milos\n",
      "Funkcija b: Milos\n"
     ]
    }
   ],
   "source": [
    "let fC = function( b, ...a){\n",
    "    for ( x of a ){\n",
    "        x(b);\n",
    "    }\n",
    "}\n",
    "fC( 'Milos', ...nizA);"
   ]
  },
  {
   "cell_type": "code",
   "execution_count": 3,
   "metadata": {},
   "outputs": [
    {
     "name": "stdout",
     "output_type": "stream",
     "text": [
      "Funkcija a: Milos\n"
     ]
    }
   ],
   "source": [
    "fC( 'Milos', ...[fA]);"
   ]
  },
  {
   "cell_type": "markdown",
   "metadata": {},
   "source": [
    "Funkcija koja prima atribut i vraca novu funkciju"
   ]
  },
  {
   "cell_type": "code",
   "execution_count": 4,
   "metadata": {},
   "outputs": [
    {
     "name": "stdout",
     "output_type": "stream",
     "text": [
      "4\n"
     ]
    }
   ],
   "source": [
    "let fR = function( ){    \n",
    "    return (b) => b*2;    \n",
    "}\n",
    "console.log( fR( )(2));"
   ]
  },
  {
   "cell_type": "markdown",
   "metadata": {},
   "source": [
    "Funkcija za nizove - reduce, map, filter, some, every\n",
    "\n",
    "https://developer.mozilla.org/en-US/docs/Web/JavaScript/Reference/Global_Objects/Array"
   ]
  },
  {
   "cell_type": "code",
   "execution_count": null,
   "metadata": {},
   "outputs": [],
   "source": []
  },
  {
   "cell_type": "markdown",
   "metadata": {},
   "source": [
    "Use the reduce method in combination with the concat method to “flatten”an array of arrays into a single array that has all the elements of the originalarrays."
   ]
  },
  {
   "cell_type": "code",
   "execution_count": null,
   "metadata": {},
   "outputs": [],
   "source": []
  }
 ],
 "metadata": {
  "kernelspec": {
   "display_name": "Javascript (Node.js)",
   "language": "javascript",
   "name": "javascript"
  },
  "language_info": {
   "file_extension": ".js",
   "mimetype": "application/javascript",
   "name": "javascript",
   "version": "15.3.0"
  }
 },
 "nbformat": 4,
 "nbformat_minor": 4
}
